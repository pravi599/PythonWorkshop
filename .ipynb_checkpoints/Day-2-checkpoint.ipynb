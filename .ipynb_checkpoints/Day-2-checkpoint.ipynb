{
 "cells": [
  {
   "cell_type": "code",
   "execution_count": 8,
   "metadata": {},
   "outputs": [
    {
     "name": "stdout",
     "output_type": "stream",
     "text": [
      "Enter the number of your day\n",
      "6\n",
      "6 is\n",
      "Saturday\n"
     ]
    }
   ],
   "source": [
    "n=int(input(\"Enter the number of your day\\n\"))\n",
    "print(\"%s is\"%n)\n",
    "if n==0:\n",
    "    print(\"Sunday\")\n",
    "\n",
    "elif n==1:\n",
    "    print(\"Monday\")\n",
    "elif n==2:\n",
    "    print (\"Tuesday\")\n",
    "elif n==3:\n",
    "    print(\"Wednesday\")\n",
    "elif n==4:\n",
    "    print(\"Thursday\")\n",
    "elif n==5:\n",
    "    print(\"Friday\")\n",
    "elif n==6:\n",
    "    print(\"Saturday\")\n",
    "else:\n",
    "    print(\"Invalid day\")\n",
    "\n",
    "\n"
   ]
  },
  {
   "cell_type": "code",
   "execution_count": 2,
   "metadata": {},
   "outputs": [
    {
     "name": "stdout",
     "output_type": "stream",
     "text": [
      "Enter username: 19KQ1A0599\n",
      "Enter password: Praveena@1\n",
      "Welcome 19KQ1A0599\n"
     ]
    }
   ],
   "source": [
    "username = input(\"Enter username: \")\n",
    "password = input(\"Enter password: \")\n",
    "\n",
    "if password=='Praveena@1' and username=='19KQ1A0599':\n",
    "    \n",
    "    print('Welcome %s'%username)\n",
    "    \n",
    "\n",
    "else:\n",
    "    print('Invalid Username or Password')"
   ]
  },
  {
   "cell_type": "markdown",
   "metadata": {},
   "source": [
    "### Todays concepts\n",
    "- Iterations\n",
    "    - repeat the same work for no of times\n",
    "    - for loop\n",
    "        - no of iterations\n",
    "    - while loop\n",
    "        - condition check\n",
    "- jumping statements\n",
    "- functions \n",
    "    - block of code to perform particular operation\n",
    "- strings"
   ]
  },
  {
   "cell_type": "code",
   "execution_count": null,
   "metadata": {},
   "outputs": [],
   "source": [
    "# range(start,final,step)\n",
    "# for var in range(start,final,start):\n",
    "    # statements\n",
    "\n",
    "\n"
   ]
  },
  {
   "cell_type": "code",
   "execution_count": 4,
   "metadata": {},
   "outputs": [
    {
     "name": "stdout",
     "output_type": "stream",
     "text": [
      "Praveena\n",
      "Praveena\n",
      "Praveena\n",
      "Praveena\n",
      "Praveena\n",
      "\n"
     ]
    }
   ],
   "source": [
    "print(\"Praveena\\n\"*5)"
   ]
  },
  {
   "cell_type": "code",
   "execution_count": 5,
   "metadata": {},
   "outputs": [
    {
     "name": "stdout",
     "output_type": "stream",
     "text": [
      "Hello World\n",
      "Hello World\n",
      "Hello World\n",
      "Hello World\n",
      "Hello World\n",
      "Hello World\n",
      "Hello World\n",
      "Hello World\n",
      "Hello World\n",
      "Hello World\n"
     ]
    }
   ],
   "source": [
    "for var in range(0,10,1):\n",
    "    print(\"Hello World\")"
   ]
  },
  {
   "cell_type": "code",
   "execution_count": 6,
   "metadata": {},
   "outputs": [
    {
     "name": "stdout",
     "output_type": "stream",
     "text": [
      "1\n",
      "2\n",
      "3\n",
      "4\n",
      "5\n",
      "6\n",
      "7\n",
      "8\n",
      "9\n"
     ]
    }
   ],
   "source": [
    "for n in range(1,10):\n",
    "    print(n)\n"
   ]
  },
  {
   "cell_type": "code",
   "execution_count": 12,
   "metadata": {},
   "outputs": [
    {
     "name": "stdout",
     "output_type": "stream",
     "text": [
      "2\n",
      "4\n",
      "6\n",
      "8\n",
      "10\n"
     ]
    }
   ],
   "source": [
    "for n in range(2,11,2):\n",
    "    print(n)"
   ]
  },
  {
   "cell_type": "code",
   "execution_count": 18,
   "metadata": {},
   "outputs": [
    {
     "name": "stdout",
     "output_type": "stream",
     "text": [
      "0 2 4 6 8 10 12 14 16 18 20 "
     ]
    }
   ],
   "source": [
    "for i in range(20+1):\n",
    "    if i % 2 == 0:\n",
    "        print(i ,end=' ')\n",
    "        \n",
    "    "
   ]
  },
  {
   "cell_type": "code",
   "execution_count": 19,
   "metadata": {},
   "outputs": [
    {
     "name": "stdout",
     "output_type": "stream",
     "text": [
      "Enter table number17\n",
      "Enter table length10\n",
      "17 * 1 = 17\n",
      "17 * 2 = 34\n",
      "17 * 3 = 51\n",
      "17 * 4 = 68\n",
      "17 * 5 = 85\n",
      "17 * 6 = 102\n",
      "17 * 7 = 119\n",
      "17 * 8 = 136\n",
      "17 * 9 = 153\n",
      "17 * 10 = 170\n"
     ]
    }
   ],
   "source": [
    "t = int(input('Enter table number'))\n",
    "t_l = int(input('Enter table length'))\n",
    "for i in range(1,t_l+1):\n",
    "    # 17 * 1 = 17\n",
    "    print('{} * {} = {}'.format(t,i,t*i))\n",
    "    "
   ]
  },
  {
   "cell_type": "code",
   "execution_count": 3,
   "metadata": {},
   "outputs": [
    {
     "name": "stdout",
     "output_type": "stream",
     "text": [
      "Enter number:20\n",
      "1 2 4 5 10 20 "
     ]
    }
   ],
   "source": [
    "# Factors of a number\n",
    "n = int(input('Enter number:'))\n",
    "for i in range(1,n):\n",
    "    if n % i == 0:\n",
    "        print(i,end=' ')\n"
   ]
  },
  {
   "cell_type": "code",
   "execution_count": 9,
   "metadata": {},
   "outputs": [
    {
     "name": "stdout",
     "output_type": "stream",
     "text": [
      "Enter number:6\n",
      "1 \n",
      "2 \n",
      "3 \n",
      "Sum of factors is: 6\n"
     ]
    }
   ],
   "source": [
    "# Sum of factors\n",
    "\n",
    "n = int(input('Enter number:'))\n",
    "f_s = 0\n",
    "for i in range(1,n):\n",
    "    if n % i == 0:\n",
    "        f_s+=i #f_s = f_s+i\n",
    "        print(i,end=' \\n')\n",
    "print('Sum of factors is:',f_s)\n"
   ]
  },
  {
   "cell_type": "code",
   "execution_count": 11,
   "metadata": {},
   "outputs": [
    {
     "name": "stdout",
     "output_type": "stream",
     "text": [
      "Enter number:6\n",
      "1 \n",
      "2 \n",
      "3 \n",
      "Sum of factors is: 6\n",
      "Perfect number\n"
     ]
    }
   ],
   "source": [
    "# To check perfect number\n",
    "\n",
    "n = int(input('Enter number:'))\n",
    "f_s = 0\n",
    "for i in range(1,n):\n",
    "    if n % i == 0:\n",
    "        f_s+=i #f_s = f_s+i\n",
    "        print(i,end=' \\n')\n",
    "print('Sum of factors is:',f_s)\n",
    "if f_s == n:\n",
    "    print('Perfect number')\n"
   ]
  },
  {
   "cell_type": "code",
   "execution_count": 12,
   "metadata": {},
   "outputs": [
    {
     "name": "stdout",
     "output_type": "stream",
     "text": [
      "Enter number:15\n",
      "1 \n",
      "3 \n",
      "5 \n",
      "Sum of factors is: 9\n",
      "Not a perfect number\n"
     ]
    }
   ],
   "source": [
    "# To check perfect number or not\n",
    "\n",
    "n = int(input('Enter number:'))\n",
    "f_s = 0\n",
    "for i in range(1,n):\n",
    "    if n % i == 0:\n",
    "        f_s+=i #f_s = f_s+i\n",
    "        print(i,end=' \\n')\n",
    "print('Sum of factors is:',f_s)\n",
    "if f_s == n:\n",
    "    print('Perfect number')\n",
    "else:\n",
    "    print(\"Not a perfect number\")\n",
    "\n"
   ]
  },
  {
   "cell_type": "code",
   "execution_count": 18,
   "metadata": {},
   "outputs": [
    {
     "name": "stdout",
     "output_type": "stream",
     "text": [
      "Enter factorial number:8\n",
      "40320\n"
     ]
    }
   ],
   "source": [
    "# To find Factorial of a number\n",
    "\n",
    "n = int(input('Enter factorial number:'))\n",
    "fact = 1\n",
    "for i in range(1,n+1):\n",
    "\n",
    "    fact*=i #fact=fact*i\n",
    "print(fact)/"
   ]
  },
  {
   "cell_type": "code",
   "execution_count": 2,
   "metadata": {},
   "outputs": [
    {
     "name": "stdout",
     "output_type": "stream",
     "text": [
      "1 2 3 4 5 6 7 8 9 "
     ]
    }
   ],
   "source": [
    "# while loop\n",
    "# syntax\n",
    "# while condition:\n",
    "    # statements\n",
    "    \n",
    "i = 1\n",
    "while i<10:\n",
    "    print(i,end=' ')\n",
    "    i+=1\n",
    "          "
   ]
  },
  {
   "cell_type": "code",
   "execution_count": 3,
   "metadata": {},
   "outputs": [
    {
     "name": "stdout",
     "output_type": "stream",
     "text": [
      "10 9 8 7 6 5 4 3 2 1 "
     ]
    }
   ],
   "source": [
    "# Reverse order of numbers using while loop\n",
    "\n",
    "i=10\n",
    "while i >= 1:\n",
    "    print(i,end=' ')\n",
    "    i=i-1"
   ]
  },
  {
   "cell_type": "code",
   "execution_count": 8,
   "metadata": {},
   "outputs": [
    {
     "name": "stdout",
     "output_type": "stream",
     "text": [
      "10 8 6 4 2 "
     ]
    }
   ],
   "source": [
    "i=10\n",
    "while i >= 1:\n",
    "    print(i,end=' ')\n",
    "    i=i-2"
   ]
  },
  {
   "cell_type": "code",
   "execution_count": 6,
   "metadata": {},
   "outputs": [
    {
     "name": "stdout",
     "output_type": "stream",
     "text": [
      "10\n",
      "9\n",
      "8\n",
      "7\n",
      "6\n",
      "5\n",
      "4\n",
      "3\n",
      "2\n",
      "1\n"
     ]
    }
   ],
   "source": [
    "for i in range(10,0,-1):\n",
    "    print(i)"
   ]
  },
  {
   "cell_type": "code",
   "execution_count": 7,
   "metadata": {},
   "outputs": [
    {
     "name": "stdout",
     "output_type": "stream",
     "text": [
      "10\n",
      "8\n",
      "6\n",
      "4\n",
      "2\n"
     ]
    }
   ],
   "source": [
    "for i in range(10,0,-2):\n",
    "    print(i)"
   ]
  },
  {
   "cell_type": "code",
   "execution_count": 10,
   "metadata": {},
   "outputs": [
    {
     "name": "stdout",
     "output_type": "stream",
     "text": [
      "1 2 3 4 5 6 7 8 9 10 "
     ]
    }
   ],
   "source": [
    "\n",
    "i=1\n",
    "while i < 20:\n",
    "    print(i,end=' ')\n",
    "    if i == 10:\n",
    "        break\n",
    "    i+=1\n",
    "    \n",
    "\n"
   ]
  },
  {
   "cell_type": "markdown",
   "metadata": {},
   "source": [
    "## Functions"
   ]
  },
  {
   "cell_type": "code",
   "execution_count": null,
   "metadata": {},
   "outputs": [],
   "source": [
    "# functions\n",
    "    # block of codes to do some task\n",
    "    # 1.Code reuseability\n",
    "    # 2.Reduce the size of the program\n",
    "    # 3.Readability\n",
    "# Types of functions\n",
    "    # 1.predefined function or inbuilt functions\n",
    "    # 2.userdefined function \n",
    "    # 3.Special functions(Anonymous functions)"
   ]
  },
  {
   "cell_type": "markdown",
   "metadata": {},
   "source": [
    "#### User defined functions:"
   ]
  },
  {
   "cell_type": "code",
   "execution_count": null,
   "metadata": {},
   "outputs": [],
   "source": [
    "#1.function creation\n",
    "    #a.declare the function\n",
    "        #def functionName(arg):\n",
    "    #b.function definition\n",
    "        #statements\n",
    "#2.function calling\n",
    "    #by using function name\n"
   ]
  },
  {
   "cell_type": "code",
   "execution_count": 3,
   "metadata": {},
   "outputs": [
    {
     "name": "stdout",
     "output_type": "stream",
     "text": [
      "195\n"
     ]
    }
   ],
   "source": [
    "def add(a,b):\n",
    "    print(a+b)\n",
    "add(99,96)"
   ]
  },
  {
   "cell_type": "code",
   "execution_count": null,
   "metadata": {},
   "outputs": [],
   "source": [
    "#based on return value\n",
    "#1 without arg and without return value\n",
    "#2 without arg and with return value\n",
    "#3 with arg and without return value\n",
    "#4 with arg and with return value\n"
   ]
  },
  {
   "cell_type": "code",
   "execution_count": 8,
   "metadata": {},
   "outputs": [
    {
     "name": "stdout",
     "output_type": "stream",
     "text": [
      "Enter num1:10\n",
      "Enter num2:29\n",
      "Sum of 10 and 29 is: 39\n"
     ]
    }
   ],
   "source": [
    "#1 without arg an without return value\n",
    "def add():\n",
    "    num1=int(input('Enter num1:'))\n",
    "    num2=int(input('Enter num2:'))\n",
    "    print('Sum of',num1, 'and',num2, 'is:',num1+num2)\n",
    "add()"
   ]
  },
  {
   "cell_type": "code",
   "execution_count": 13,
   "metadata": {},
   "outputs": [
    {
     "name": "stdout",
     "output_type": "stream",
     "text": [
      "Enter num1:5\n",
      "Enter num2:7\n",
      "Sub of 5 and 7 is: -2\n"
     ]
    },
    {
     "data": {
      "text/plain": [
       "-2"
      ]
     },
     "execution_count": 13,
     "metadata": {},
     "output_type": "execute_result"
    }
   ],
   "source": [
    "#2 without arg and with return value\n",
    "def sub():\n",
    "    num1=int(input('Enter num1:'))\n",
    "    num2=int(input('Enter num2:'))\n",
    "    print('Sub of',num1, 'and',num2, 'is:',num1-num2)\n",
    "    return num1-num2 \n",
    "sub()"
   ]
  },
  {
   "cell_type": "code",
   "execution_count": null,
   "metadata": {},
   "outputs": [],
   "source": []
  }
 ],
 "metadata": {
  "kernelspec": {
   "display_name": "Python 3",
   "language": "python",
   "name": "python3"
  },
  "language_info": {
   "codemirror_mode": {
    "name": "ipython",
    "version": 3
   },
   "file_extension": ".py",
   "mimetype": "text/x-python",
   "name": "python",
   "nbconvert_exporter": "python",
   "pygments_lexer": "ipython3",
   "version": "3.8.5"
  }
 },
 "nbformat": 4,
 "nbformat_minor": 4
}
