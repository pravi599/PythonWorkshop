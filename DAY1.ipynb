{
 "cells": [
  {
   "cell_type": "markdown",
   "metadata": {},
   "source": [
    "# Bullet Points\n",
    "\n",
    "* Language\n",
    "    - clang\n",
    "    - python\n",
    "    - java\n",
    "* web pages\n",
    "\n",
    "\n",
    "\n",
    "\n",
    "\n",
    "\n",
    "\n",
    "\n",
    "\n",
    "\n",
    "\n",
    "\n",
    "\n",
    "\n",
    "\n",
    "\n",
    "\n",
    "\n",
    "\n",
    "\n"
   ]
  },
  {
   "cell_type": "markdown",
   "metadata": {},
   "source": []
  },
  {
   "cell_type": "code",
   "execution_count": 1,
   "metadata": {},
   "outputs": [
    {
     "data": {
      "text/plain": [
       "30"
      ]
     },
     "execution_count": 1,
     "metadata": {},
     "output_type": "execute_result"
    }
   ],
   "source": [
    "a=10\n",
    "b=20\n",
    "a+b\n",
    "\n"
   ]
  },
  {
   "cell_type": "code",
   "execution_count": 3,
   "metadata": {},
   "outputs": [
    {
     "data": {
      "text/plain": [
       "int"
      ]
     },
     "execution_count": 3,
     "metadata": {},
     "output_type": "execute_result"
    }
   ],
   "source": [
    "a=10\n",
    "type(a)"
   ]
  },
  {
   "cell_type": "code",
   "execution_count": 4,
   "metadata": {},
   "outputs": [
    {
     "data": {
      "text/plain": [
       "str"
      ]
     },
     "execution_count": 4,
     "metadata": {},
     "output_type": "execute_result"
    }
   ],
   "source": [
    "b=\"Praveena\"\n",
    "type(b)"
   ]
  },
  {
   "cell_type": "code",
   "execution_count": 6,
   "metadata": {},
   "outputs": [
    {
     "data": {
      "text/plain": [
       "bool"
      ]
     },
     "execution_count": 6,
     "metadata": {},
     "output_type": "execute_result"
    }
   ],
   "source": [
    "c=True\n",
    "type(c)"
   ]
  },
  {
   "cell_type": "code",
   "execution_count": 7,
   "metadata": {},
   "outputs": [
    {
     "data": {
      "text/plain": [
       "str"
      ]
     },
     "execution_count": 7,
     "metadata": {},
     "output_type": "execute_result"
    }
   ],
   "source": [
    "d=\"34\"\n",
    "type(d)"
   ]
  },
  {
   "cell_type": "markdown",
   "metadata": {},
   "source": [
    "# History of Python\n",
    "\n",
    "## Monty `Pthon` fly circus\n",
    "\n",
    "- In 1989 started Implementation of python with version 0.9\n",
    "- In 1991 Implementation 0.9 version \n",
    "- In 1994 Implementation 1.0 version with features of lambda,map,filter,reduce\n",
    "- In 2000 Implemented 2.0 version with featurs of datastructures Like List,Tuple,Dictionary,Sets..etc\n",
    "- In 20008 Republished 3.0 version with features large no of libraries,grabagecollection and Fastworking "
   ]
  },
  {
   "cell_type": "markdown",
   "metadata": {},
   "source": [
    "Comparing versions \n",
    "\n",
    "Firstversion and second version print statement is \n",
    "\n",
    "print a+b\n",
    "\n",
    "by using input method\n",
    "\n",
    "raw_input()\n",
    "\n",
    "in 3rd version \n",
    "\n",
    "print(a+b)\n",
    "\n",
    "input()"
   ]
  },
  {
   "cell_type": "markdown",
   "metadata": {},
   "source": [
    "# Features of python \n",
    "\n",
    "- Easy to Learn & Easy to write\n",
    "\n",
    "- crossplatform\n",
    "\n",
    "- scalable\n",
    "\n",
    "- portable\n",
    "\n",
    "- scripting"
   ]
  },
  {
   "cell_type": "markdown",
   "metadata": {},
   "source": [
    "for var in range(10) in python\n",
    "{% for i in range(10) %} in html"
   ]
  },
  {
   "cell_type": "code",
   "execution_count": 12,
   "metadata": {},
   "outputs": [
    {
     "data": {
      "text/plain": [
       "['False',\n",
       " 'None',\n",
       " 'True',\n",
       " 'and',\n",
       " 'as',\n",
       " 'assert',\n",
       " 'async',\n",
       " 'await',\n",
       " 'break',\n",
       " 'class',\n",
       " 'continue',\n",
       " 'def',\n",
       " 'del',\n",
       " 'elif',\n",
       " 'else',\n",
       " 'except',\n",
       " 'finally',\n",
       " 'for',\n",
       " 'from',\n",
       " 'global',\n",
       " 'if',\n",
       " 'import',\n",
       " 'in',\n",
       " 'is',\n",
       " 'lambda',\n",
       " 'nonlocal',\n",
       " 'not',\n",
       " 'or',\n",
       " 'pass',\n",
       " 'raise',\n",
       " 'return',\n",
       " 'try',\n",
       " 'while',\n",
       " 'with',\n",
       " 'yield']"
      ]
     },
     "execution_count": 12,
     "metadata": {},
     "output_type": "execute_result"
    }
   ],
   "source": [
    "# keywords or reserved words in python\n",
    "\n",
    "import keyword as k\n",
    "\n",
    "dir(keyword)\n",
    "\n",
    "keyword.kwlist"
   ]
  },
  {
   "cell_type": "code",
   "execution_count": null,
   "metadata": {},
   "outputs": [],
   "source": [
    "in generators yield keyword\n",
    "\n",
    "in iterators iter buitin function "
   ]
  },
  {
   "cell_type": "code",
   "execution_count": null,
   "metadata": {},
   "outputs": [
    {
     "name": "stdout",
     "output_type": "stream",
     "text": [
      "\n",
      "Welcome to Python 3.8's help utility!\n",
      "\n",
      "If this is your first time using Python, you should definitely check out\n",
      "the tutorial on the Internet at https://docs.python.org/3.8/tutorial/.\n",
      "\n",
      "Enter the name of any module, keyword, or topic to get help on writing\n",
      "Python programs and using Python modules.  To quit this help utility and\n",
      "return to the interpreter, just type \"quit\".\n",
      "\n",
      "To get a list of available modules, keywords, symbols, or topics, type\n",
      "\"modules\", \"keywords\", \"symbols\", or \"topics\".  Each module also comes\n",
      "with a one-line summary of what it does; to list the modules whose name\n",
      "or summary contain a given string such as \"spam\", type \"modules spam\".\n",
      "\n",
      "help> modules\n",
      "\n",
      "Please wait a moment while I gather a list of all available modules...\n",
      "\n"
     ]
    },
    {
     "name": "stderr",
     "output_type": "stream",
     "text": [
      "C:\\ProgramData\\Anaconda3\\lib\\site-packages\\IPython\\kernel\\__init__.py:12: ShimWarning: The `IPython.kernel` package has been deprecated since IPython 4.0.You should import from ipykernel or jupyter_client instead.\n",
      "  warn(\"The `IPython.kernel` package has been deprecated since IPython 4.0.\"\n",
      "C:\\ProgramData\\Anaconda3\\lib\\pkgutil.py:92: MatplotlibDeprecationWarning: \n",
      "The matplotlib.compat module was deprecated in Matplotlib 3.3 and will be removed two minor releases later.\n",
      "  __import__(info.name)\n",
      "C:\\ProgramData\\Anaconda3\\lib\\site-packages\\nltk\\twitter\\__init__.py:21: UserWarning: The twython library has not been installed. Some functionality from the twitter package will not be available.\n",
      "  warnings.warn(\n",
      "C:\\ProgramData\\Anaconda3\\lib\\site-packages\\skimage\\viewer\\utils\\__init__.py:1: UserWarning: Recommended matplotlib backend is `Agg` for full skimage.viewer functionality.\n",
      "  from .core import *\n"
     ]
    },
    {
     "name": "stdout",
     "output_type": "stream",
     "text": [
      "Update LANGUAGE_CODES (inside config/base.py) if a new translation has been added to Spyder\n"
     ]
    },
    {
     "name": "stderr",
     "output_type": "stream",
     "text": [
      "C:\\ProgramData\\Anaconda3\\lib\\site-packages\\qtawesome\\iconic_font.py:311: UserWarning: You need to have a running QApplication to use QtAwesome!\n",
      "  warnings.warn(\"You need to have a running \"\n",
      "C:\\ProgramData\\Anaconda3\\lib\\pkgutil.py:107: VisibleDeprecationWarning: zmq.eventloop.minitornado is deprecated in pyzmq 14.0 and will be removed.\n",
      "    Install tornado itself to use zmq with the tornado IOLoop.\n",
      "    \n",
      "  yield from walk_packages(path, info.name+'.', onerror)\n"
     ]
    },
    {
     "name": "stdout",
     "output_type": "stream",
     "text": [
      "Cython              brain_re            mailcap             sndhdr\n",
      "IPython             brain_responses     markupsafe          snowballstemmer\n",
      "OpenSSL             brain_scipy_signal  marshal             socket\n",
      "PIL                 brain_six           math                socketserver\n",
      "PyQt5               brain_ssl           matplotlib          socks\n",
      "__future__          brain_subprocess    mccabe              sockshandler\n",
      "_abc                brain_threading     menuinst            sortedcollections\n",
      "_ast                brain_typing        mimetypes           sortedcontainers\n",
      "_asyncio            brain_uuid          mistune             soupsieve\n",
      "_bisect             brotli              mkl                 sphinx\n",
      "_blake2             bs4                 mkl_fft             sphinxcontrib\n",
      "_bootlocale         builtins            mkl_random          spyder\n",
      "_bz2                bz2                 mmap                spyder_kernels\n",
      "_cffi_backend       cProfile            mmapfile            sqlalchemy\n",
      "_codecs             calendar            mmsystem            sqlite3\n",
      "_codecs_cn          certifi             mock                sre_compile\n",
      "_codecs_hk          cffi                modulefinder        sre_constants\n",
      "_codecs_iso2022     cgi                 more_itertools      sre_parse\n",
      "_codecs_jp          cgitb               mpmath              ssl\n",
      "_codecs_kr          chardet             msgpack             sspi\n",
      "_codecs_tw          chunk               msilib              sspicon\n",
      "_collections        click               msvcrt              stat\n",
      "_collections_abc    cloudpickle         multipledispatch    statistics\n",
      "_compat_pickle      clyent              multiprocessing     statsmodels\n",
      "_compression        cmath               nacl                storemagic\n",
      "_contextvars        cmd                 navigator_updater   string\n",
      "_csv                code                nbclient            stringprep\n",
      "_ctypes             codecs              nbconvert           struct\n",
      "_ctypes_test        codeop              nbformat            subprocess\n",
      "_datetime           collections         nest_asyncio        sunau\n",
      "_decimal            colorama            netbios             symbol\n",
      "_distutils_hack     colorsys            netrc               sympy\n",
      "_dummy_thread       commctrl            networkx            sympyprinting\n",
      "_elementtree        compileall          nltk                symtable\n",
      "_functools          comtypes            nntplib             sys\n",
      "_hashlib            concurrent          nose                sysconfig\n",
      "_heapq              conda               notebook            tables\n",
      "_imp                conda_build         nt                  tabnanny\n",
      "_io                 conda_env           ntpath              tarfile\n",
      "_json               conda_package_handling ntsecuritycon       tblib\n",
      "_locale             conda_verify        nturl2path          telnetlib\n",
      "_lsprof             configparser        numba               tempfile\n",
      "_lzma               contextlib          numbers             terminado\n",
      "_markupbase         contextlib2         numexpr             test\n",
      "_md5                contextvars         numpy               test_data\n",
      "_msi                copy                numpydoc            test_pycosat\n",
      "_multibytecodec     copyreg             odbc                testpath\n",
      "_multiprocessing    crypt               olefile             tests\n",
      "_nsis               cryptography        opcode              textwrap\n",
      "_opcode             csv                 openpyxl            this\n",
      "_operator           ctypes              operator            threading\n",
      "_osx_support        curl                optparse            threadpoolctl\n",
      "_overlapped         curses              os                  time\n",
      "_pickle             cwp                 packaging           timeit\n",
      "_py_abc             cycler              pandas              timer\n",
      "_pydecimal          cython              pandocfilters       tkinter\n",
      "_pyio               cythonmagic         paramiko            tlz\n",
      "_pyrsistent_version cytoolz             parser              token\n",
      "_pytest             dask                parso               tokenize\n",
      "_queue              dataclasses         partd               toml\n",
      "_random             datetime            past                toolz\n",
      "_sha1               dateutil            path                tornado\n",
      "_sha256             dbi                 pathlib             tqdm\n",
      "_sha3               dbm                 pathlib2            trace\n",
      "_sha512             dde                 pathtools           traceback\n",
      "_signal             decimal             patsy               tracemalloc\n",
      "_sitebuiltins       decorator           pdb                 traitlets\n",
      "_socket             defusedxml          pep8                tty\n",
      "_sqlite3            diff_match_patch    perfmon             turtle\n",
      "_sre                difflib             pexpect             turtledemo\n",
      "_ssl                dis                 pickle              types\n",
      "_stat               distributed         pickleshare         typing\n",
      "_statistics         distutils           pickletools         typing_extensions\n",
      "_string             doctest             pip                 ujson\n",
      "_strptime           docutils            pipes               unicodecsv\n",
      "_struct             dummy_threading     pkg_resources       unicodedata\n",
      "_symtable           easy_install        pkginfo             unittest\n",
      "_system_path        email               pkgutil             urllib\n",
      "_testbuffer         encodings           platform            urllib3\n",
      "_testcapi           ensurepip           plistlib            uu\n",
      "_testconsole        entrypoints         pluggy              uuid\n",
      "_testimportmultiple enum                ply                 venv\n",
      "_testinternalcapi   errno               poplib              warnings\n",
      "_testmultiphase     et_xmlfile          posixpath           watchdog\n",
      "_thread             fastcache           pprint              wave\n",
      "_threading_local    faulthandler        profile             wcwidth\n",
      "_tkinter            filecmp             prometheus_client   weakref\n",
      "_tracemalloc        fileinput           prompt_toolkit      webbrowser\n",
      "_warnings           filelock            pstats              webencodings\n",
      "_weakref            flake8              psutil              werkzeug\n",
      "_weakrefset         flask               pty                 wheel\n",
      "_win32sysloader     fnmatch             pvectorc            widgetsnbextension\n",
      "_winapi             formatter           py                  win2kras\n",
      "_winxptheme         fractions           py_compile          win32api\n",
      "_xxsubinterpreters  fsspec              pyclbr              win32clipboard\n",
      "_yaml               ftplib              pycodestyle         win32com\n",
      "abc                 functools           pycosat             win32con\n",
      "adodbapi            future              pycparser           win32console\n",
      "afxres              gc                  pycurl              win32cred\n",
      "aifc                genericpath         pydoc               win32crypt\n",
      "alabaster           getopt              pydoc_data          win32cryptcon\n",
      "anaconda_navigator  getpass             pydocstyle          win32ctypes\n",
      "anaconda_project    gettext             pyexpat             win32event\n",
      "antigravity         gevent              pyflakes            win32evtlog\n",
      "argh                glob                pygments            win32evtlogutil\n",
      "argon2              glob2               pylab               win32file\n",
      "argparse            greenlet            pylint              win32gui\n",
      "array               gzip                pyls                win32gui_struct\n",
      "asn1crypto          h5py                pyls_jsonrpc        win32help\n",
      "ast                 hashlib             pyodbc              win32inet\n",
      "astroid             heapdict            pyparsing           win32inetcon\n",
      "astropy             heapq               pyreadline          win32job\n",
      "async_generator     hmac                pyrsistent          win32lz\n",
      "asynchat            html                pytest              win32net\n",
      "asyncio             html5lib            pythoncom           win32netcon\n",
      "asyncore            http                pytz                win32pdh\n",
      "atexit              idlelib             pywin               win32pdhquery\n",
      "atomicwrites        idna                pywin32_bootstrap   win32pdhutil\n",
      "attr                imageio             pywin32_testutil    win32pipe\n",
      "audioop             imagesize           pywintypes          win32print\n",
      "autopep8            imaplib             pywt                win32process\n",
      "autoreload          imghdr              pyximport           win32profile\n",
      "babel               imp                 qdarkstyle          win32ras\n",
      "backcall            importlib           qtawesome           win32rcparser\n",
      "backports           importlib_metadata  qtconsole           win32security\n",
      "base64              iniconfig           qtpy                win32service\n",
      "bcrypt              inspect             queue               win32serviceutil\n",
      "bdb                 intervaltree        quopri              win32timezone\n",
      "binascii            io                  random              win32trace\n",
      "binhex              ipaddress           rasutil             win32traceutil\n",
      "binstar_client      ipykernel           re                  win32transaction\n",
      "bisect              ipykernel_launcher  readline            win32ts\n",
      "bitarray            ipython_genutils    regcheck            win32ui\n",
      "bkcharts            ipywidgets          regex               win32uiole\n",
      "bleach              isapi               regutil             win32verstamp\n",
      "bokeh               isort               reprlib             win32wnet\n",
      "boto                isympy              requests            win_inet_pton\n",
      "bottleneck          itertools           rlcompleter         win_unicode_console\n",
      "brain_argparse      itsdangerous        rmagic              wincertstore\n",
      "brain_attrs         jdcal               rope                winerror\n",
      "brain_boto3         jedi                rtree               winioctlcon\n",
      "brain_builtin_inference jinja2              ruamel_yaml         winnt\n",
      "brain_collections   joblib              run                 winperf\n",
      "brain_crypt         json                runpy               winpty\n",
      "brain_curses        json5               sched               winreg\n",
      "brain_dataclasses   jsonschema          scipy               winsound\n",
      "brain_dateutil      jupyter             scripts             winxpgui\n",
      "brain_fstrings      jupyter_client      seaborn             winxptheme\n",
      "brain_functools     jupyter_console     secrets             wrapt\n",
      "brain_gi            jupyter_core        select              wsgiref\n",
      "brain_hashlib       jupyterlab          selectors           xdrlib\n",
      "brain_http          jupyterlab_pygments send2trash          xlrd\n",
      "brain_io            jupyterlab_server   servicemanager      xlsxwriter\n",
      "brain_mechanize     keyring             setuptools          xlwings\n",
      "brain_multiprocessing keyword             shelve              xlwt\n",
      "brain_namedtuple_enum kiwisolver          shlex               xml\n",
      "brain_nose          lazy_object_proxy   shutil              xmlrpc\n",
      "brain_numpy_core_fromnumeric lib2to3             signal              xmltodict\n",
      "brain_numpy_core_function_base libarchive          simplegeneric       xxsubtype\n",
      "brain_numpy_core_multiarray libfuturize         singledispatch      yaml\n",
      "brain_numpy_core_numeric libpasteurize       singledispatch_helpers yapf\n",
      "brain_numpy_core_numerictypes lief                sip                 yapftests\n",
      "brain_numpy_core_umath linecache           sipconfig           zict\n",
      "brain_numpy_ndarray llvmlite            sipdistutils        zipapp\n",
      "brain_numpy_random_mtrand locale              site                zipfile\n",
      "brain_numpy_utils   locket              six                 zipimport\n",
      "brain_pkg_resources logging             skimage             zipp\n",
      "brain_pytest        lxml                sklearn             zlib\n",
      "brain_qt            lzma                smtpd               zmq\n",
      "brain_random        mailbox             smtplib             zope\n",
      "\n",
      "Enter any module name to get more help.  Or, type \"modules spam\" to search\n",
      "for modules whose name or summary contain the string \"spam\".\n",
      "\n"
     ]
    }
   ],
   "source": [
    "help()"
   ]
  },
  {
   "cell_type": "markdown",
   "metadata": {},
   "source": [
    "# Operators in Python\n",
    "\n",
    "- Arthematic operator('+','- ','*','/','%','**','//')\n",
    "- Relational or Comparison operator(>,<,<=,>=,==,!=)\n",
    "- Assignment operator(+=,-=,*=,/=,**=,//=)\n",
    "- Logical operator(and,or,not)\n",
    "- Bitwise operator(&,|,^,>>,<<)\n",
    "- Membership operator(in,not in)\n",
    "- Identify operator(is,is not)\n",
    "\n",
    "\n"
   ]
  },
  {
   "cell_type": "code",
   "execution_count": 5,
   "metadata": {},
   "outputs": [
    {
     "name": "stdout",
     "output_type": "stream",
     "text": [
      "30\n",
      "-10\n",
      "200\n",
      "0.5\n",
      "10\n",
      "100000000000000000000\n",
      "100000000000000000000\n",
      "0\n"
     ]
    }
   ],
   "source": [
    "\n",
    "a=10\n",
    "b=20\n",
    "print(a+b)\n",
    "print(a-b)\n",
    "print(a*b)\n",
    "print(a/b)\n",
    "print(a%b)\n",
    "print(a**b)\n",
    "print(pow(10,20))\n",
    "print(a//b)\n"
   ]
  },
  {
   "cell_type": "code",
   "execution_count": 6,
   "metadata": {},
   "outputs": [
    {
     "name": "stdout",
     "output_type": "stream",
     "text": [
      "True\n",
      "False\n",
      "False\n",
      "True\n"
     ]
    }
   ],
   "source": [
    "# Relational operators \n",
    "\n",
    "x=100\n",
    "y=90\n",
    "print(x>y)\n",
    "print(x<y)\n",
    "print(x==y)\n",
    "print(x!=y)"
   ]
  },
  {
   "cell_type": "code",
   "execution_count": 15,
   "metadata": {},
   "outputs": [
    {
     "name": "stdout",
     "output_type": "stream",
     "text": [
      "50\n",
      "30\n",
      "46656.0\n"
     ]
    }
   ],
   "source": [
    "# Assignment operators\n",
    "\n",
    "p=10\n",
    "p+=40\n",
    "print(p)\n",
    "\n",
    "p-=20\n",
    "print(p)\n",
    "\n",
    "p*=2\n",
    "\n",
    "p/=3\n",
    "\n",
    "p//=3\n",
    "\n",
    "p**=6\n",
    "\n",
    "print(p)\n",
    "\n",
    "\n"
   ]
  },
  {
   "cell_type": "code",
   "execution_count": 16,
   "metadata": {},
   "outputs": [
    {
     "name": "stdout",
     "output_type": "stream",
     "text": [
      "False\n",
      "False\n",
      "False\n",
      "True\n"
     ]
    }
   ],
   "source": [
    "# Logical operator\n",
    "# And\n",
    "print(False and False)\n",
    "print(False and True)\n",
    "print(True and False)\n",
    "print(True and True)\n",
    "\n"
   ]
  },
  {
   "cell_type": "code",
   "execution_count": 20,
   "metadata": {},
   "outputs": [
    {
     "name": "stdout",
     "output_type": "stream",
     "text": [
      "False\n",
      "True\n",
      "True\n",
      "True\n"
     ]
    }
   ],
   "source": [
    "# Or\n",
    "print(False or False)\n",
    "print(False or True)\n",
    "print(True or False)\n",
    "print(True or True)\n",
    "\n"
   ]
  },
  {
   "cell_type": "code",
   "execution_count": 19,
   "metadata": {},
   "outputs": [
    {
     "name": "stdout",
     "output_type": "stream",
     "text": [
      "True\n",
      "True\n",
      "True\n",
      "False\n"
     ]
    }
   ],
   "source": [
    "# Not\n",
    "print(not(False and False))\n",
    "print(not(False and True))\n",
    "print(not(True and False))\n",
    "print(not(True and True))\n",
    "\n"
   ]
  },
  {
   "cell_type": "code",
   "execution_count": 21,
   "metadata": {},
   "outputs": [
    {
     "name": "stdout",
     "output_type": "stream",
     "text": [
      "True\n",
      "False\n",
      "False\n",
      "False\n"
     ]
    }
   ],
   "source": [
    "print(not(False or False))\n",
    "print(not(False or True))\n",
    "print(not(True or False))\n",
    "print(not(True or True))\n"
   ]
  },
  {
   "cell_type": "code",
   "execution_count": 23,
   "metadata": {},
   "outputs": [
    {
     "name": "stdout",
     "output_type": "stream",
     "text": [
      "True\n",
      "True\n",
      "False\n",
      "False\n",
      "True\n",
      "False\n"
     ]
    }
   ],
   "source": [
    "print(10>5 and 20>8)\n",
    "print(100<101 or 99>50)\n",
    "print(50>55 and 45<100)\n",
    "print(5==5 and 5!=5)\n",
    "print(5!=5 or 5==5)\n",
    "print(not(10==10 and 50!=49))"
   ]
  },
  {
   "cell_type": "code",
   "execution_count": 32,
   "metadata": {},
   "outputs": [
    {
     "name": "stdout",
     "output_type": "stream",
     "text": [
      "2\n",
      "15\n",
      "1\n"
     ]
    },
    {
     "data": {
      "text/plain": [
       "'0b1010'"
      ]
     },
     "execution_count": 32,
     "metadata": {},
     "output_type": "execute_result"
    }
   ],
   "source": [
    "# Bitwise operators \n",
    "print(2&2)\n",
    "\n",
    "print(10|5)\n",
    "\n",
    "print(5^4)\n",
    "\n",
    "bin(10)"
   ]
  },
  {
   "cell_type": "code",
   "execution_count": 33,
   "metadata": {},
   "outputs": [
    {
     "data": {
      "text/plain": [
       "65"
      ]
     },
     "execution_count": 33,
     "metadata": {},
     "output_type": "execute_result"
    }
   ],
   "source": [
    "ord('A')"
   ]
  },
  {
   "cell_type": "code",
   "execution_count": 34,
   "metadata": {},
   "outputs": [
    {
     "data": {
      "text/plain": [
       "97"
      ]
     },
     "execution_count": 34,
     "metadata": {},
     "output_type": "execute_result"
    }
   ],
   "source": [
    "ord('a')"
   ]
  },
  {
   "cell_type": "code",
   "execution_count": 35,
   "metadata": {},
   "outputs": [
    {
     "data": {
      "text/plain": [
       "'c'"
      ]
     },
     "execution_count": 35,
     "metadata": {},
     "output_type": "execute_result"
    }
   ],
   "source": [
    "chr(99)"
   ]
  },
  {
   "cell_type": "code",
   "execution_count": 36,
   "metadata": {},
   "outputs": [
    {
     "name": "stdout",
     "output_type": "stream",
     "text": [
      "True\n",
      "True\n"
     ]
    }
   ],
   "source": [
    "# Member ship operator\n",
    "\n",
    "a= \"Welcome to pythonwork shop\"\n",
    "print('to' in a)\n",
    "\n",
    "print('hello' not in a)"
   ]
  },
  {
   "cell_type": "code",
   "execution_count": null,
   "metadata": {},
   "outputs": [],
   "source": [
    "a=[1,2,2,3,4,4,5,6,1,2,3]\n",
    "b="
   ]
  },
  {
   "cell_type": "code",
   "execution_count": 39,
   "metadata": {},
   "outputs": [
    {
     "name": "stdout",
     "output_type": "stream",
     "text": [
      "False\n",
      "True\n"
     ]
    }
   ],
   "source": [
    "# Identity opetators\n",
    "x=100\n",
    "y=1000\n",
    "print(x is y)\n",
    "print(x is not y)"
   ]
  },
  {
   "cell_type": "code",
   "execution_count": 40,
   "metadata": {},
   "outputs": [
    {
     "name": "stdout",
     "output_type": "stream",
     "text": [
      "10\n"
     ]
    }
   ],
   "source": [
    "a=b=c=10\n",
    "print(a)"
   ]
  },
  {
   "cell_type": "code",
   "execution_count": 46,
   "metadata": {},
   "outputs": [
    {
     "name": "stdout",
     "output_type": "stream",
     "text": [
      "10\n",
      "30\n"
     ]
    }
   ],
   "source": [
    "a,b,c=10,20,30\n",
    "print(a)\n",
    "print(c)"
   ]
  },
  {
   "cell_type": "code",
   "execution_count": 23,
   "metadata": {},
   "outputs": [
    {
     "name": "stdout",
     "output_type": "stream",
     "text": [
      "Adddition of two numbers is  35\n"
     ]
    }
   ],
   "source": [
    "# static variable\n",
    "a=10\n",
    "b=25\n",
    "c=a+b\n",
    "print(\"Adddition of two numbers is \",c)"
   ]
  },
  {
   "cell_type": "code",
   "execution_count": 22,
   "metadata": {},
   "outputs": [
    {
     "name": "stdout",
     "output_type": "stream",
     "text": [
      "Addition of 10 + 100 = 110\n",
      "Addition of 10 + 100 = 110\n",
      "Multiplication of 10 * 100 = 1000\n"
     ]
    }
   ],
   "source": [
    "a=10\n",
    "b=100\n",
    "\n",
    "print(\"Addition of\",a,'+',b,'=',a+b)\n",
    "\n",
    "print(\"Addition of %d + %d = %d\"%(a,b,a+b))\n",
    "\n",
    "print(\"Multiplication of {0} * {1} = {2}\".format(a,b,a*b))"
   ]
  },
  {
   "cell_type": "code",
   "execution_count": 3,
   "metadata": {},
   "outputs": [
    {
     "name": "stdout",
     "output_type": "stream",
     "text": [
      "Enter the x value:-23\n",
      "Enter the y value:-34\n",
      "Addition of 57\n"
     ]
    }
   ],
   "source": [
    "x=int(input('Enter the x value:-'))\n",
    "y=int(input('Enter the y value:-'))\n",
    "print(\"Addition of\",x+y)\n",
    "\n"
   ]
  },
  {
   "cell_type": "markdown",
   "metadata": {},
   "source": [
    "# Expression\n",
    "\n",
    "- 1.Take 5 inputs from user\n",
    "- 2.to perform operation\n",
    "- 3.store result in variable\n",
    "- 4.print that final result\n",
    "\n",
    "\n",
    "\n",
    "\n"
   ]
  },
  {
   "cell_type": "code",
   "execution_count": 1,
   "metadata": {},
   "outputs": [
    {
     "name": "stdout",
     "output_type": "stream",
     "text": [
      "Enter a value:-1\n",
      "Enter b value:-2\n",
      "Enter c value:-3\n",
      "Enter d value:-4\n",
      "Enter e value:-5\n",
      "Result is 8\n"
     ]
    }
   ],
   "source": [
    "a=int(input(\"Enter a value:-\"))\n",
    "b=int(input(\"Enter b value:-\"))\n",
    "c=int(input(\"Enter c value:-\"))\n",
    "d=int(input(\"Enter d value:-\"))\n",
    "e=int(input(\"Enter e value:-\"))\n",
    "result=a+b*c-d+e\n",
    "print(\"Result is\",result)\n",
    "\n",
    "\n",
    "\n"
   ]
  },
  {
   "cell_type": "markdown",
   "metadata": {},
   "source": [
    "# Conditional Statements \n",
    "- if\n",
    "- elif\n",
    "- else\n",
    "\n",
    "## syntax \n",
    "\n",
    "if condition:\n",
    "    statements\n",
    "elif condition:\n",
    "    statements\n",
    "else:\n",
    "    statements\n",
    "\n",
    "\n",
    "\n",
    "\n"
   ]
  },
  {
   "cell_type": "code",
   "execution_count": 5,
   "metadata": {},
   "outputs": [
    {
     "name": "stdout",
     "output_type": "stream",
     "text": [
      "Enter the value4\n",
      "4 is even number\n"
     ]
    }
   ],
   "source": [
    "n1=int(input('Enter the value'))\n",
    "if n1%2==0:\n",
    "        print(n1,\"is even number\")\n",
    "else:\n",
    "    print(n1,\"is odd number\")\n"
   ]
  },
  {
   "cell_type": "code",
   "execution_count": 7,
   "metadata": {},
   "outputs": [
    {
     "name": "stdout",
     "output_type": "stream",
     "text": [
      "Enter the value5\n",
      "5 is odd number\n"
     ]
    }
   ],
   "source": [
    "n1=int(input('Enter the value'))\n",
    "if n1%2!=0:\n",
    "    print(n1,\"is odd number\")\n",
    "else:\n",
    "     print(n1,\"is even number\")"
   ]
  },
  {
   "cell_type": "markdown",
   "metadata": {},
   "source": [
    "# Write a program to print Days \n",
    "\n",
    "#### User take 0-7 numbers\n",
    "\n",
    "#### 0 is Sunday\n",
    "\n",
    "#### 7 is saturday\n",
    "\n",
    "### User can give above7 --> Print (Invalid day)\n",
    "\n",
    "\n",
    "# Take 2 Inputs From User\n",
    "\n",
    "\n",
    "## First input Usename\n",
    "\n",
    "## Second input Password\n",
    "\n",
    "## Both condition True\n",
    "\n",
    "\n",
    "### Print Welcome Current Username \n",
    "\n",
    "#### Otherwise invalid user name or password\n",
    "\n",
    "# Write Program to print user given the values\n",
    "\n",
    "### User can Give the a-z or A-Z --> print alphabet\n",
    "\n",
    "### User can Give the 0-9 -->print digit\n",
    "\n",
    "### User can Give the @,#,$,%,^,()--> SpecialSymbol "
   ]
  },
  {
   "cell_type": "code",
   "execution_count": 19,
   "metadata": {},
   "outputs": [
    {
     "data": {
      "text/plain": [
       "'10'"
      ]
     },
     "execution_count": 19,
     "metadata": {},
     "output_type": "execute_result"
    }
   ],
   "source": [
    "a=10\n",
    "(str(a))\n",
    "\n",
    "\n",
    "      \n"
   ]
  },
  {
   "cell_type": "code",
   "execution_count": 22,
   "metadata": {},
   "outputs": [
    {
     "data": {
      "text/plain": [
       "1"
      ]
     },
     "execution_count": 22,
     "metadata": {},
     "output_type": "execute_result"
    }
   ],
   "source": [
    "s='1.5'\n",
    "float(s)\n",
    "\n",
    "int(float(s))"
   ]
  },
  {
   "cell_type": "code",
   "execution_count": null,
   "metadata": {},
   "outputs": [],
   "source": []
  }
 ],
 "metadata": {
  "kernelspec": {
   "display_name": "Python 3",
   "language": "python",
   "name": "python3"
  },
  "language_info": {
   "codemirror_mode": {
    "name": "ipython",
    "version": 3
   },
   "file_extension": ".py",
   "mimetype": "text/x-python",
   "name": "python",
   "nbconvert_exporter": "python",
   "pygments_lexer": "ipython3",
   "version": "3.8.5"
  }
 },
 "nbformat": 4,
 "nbformat_minor": 4
}
